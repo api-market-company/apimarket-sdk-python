{
 "cells": [
  {
   "metadata": {},
   "cell_type": "markdown",
   "source": "# API Market SDK Python",
   "id": "b75191b11fe245bf"
  },
  {
   "metadata": {},
   "cell_type": "markdown",
   "source": "By default, the SDK will assembly for you a sync client and read your environment variables.",
   "id": "79a83170a999431f"
  },
  {
   "metadata": {
    "ExecuteTime": {
     "end_time": "2024-06-22T00:41:37.299216Z",
     "start_time": "2024-06-22T00:41:35.582706Z"
    }
   },
   "cell_type": "code",
   "source": [
    "import apimarket\n",
    "\n",
    "apimarket.fetch_curp_details(\"CAHF620818HMNLNL09\")"
   ],
   "id": "2d274d96ad51aef4",
   "outputs": [
    {
     "data": {
      "text/plain": [
       "CurpAPIResponse(additional_data={}, codigo_validacion='uqbVH9LsvpNPgXLnemNl', data=ValidCURPUserData(additional_data={}, apellido_materno='HINOJOSA', apellido_paterno='CALDERON', curp='CAHF620818HMNLNL09', datos_doc_probatorio=DocProbatorioData(additional_data={}, anio_reg=1963, clave_entidad_registro='16', clave_municipio_registro=None, entidad_registro='16', foja=None, libro=None, municipio_registro='MORELIA', num_acta=None), doc_probatorio=None, estado_nacimiento='MICHOACÁN DE OCAMPO', fecha_nacimiento=datetime.datetime(1962, 8, 18, 0, 0), historial=HistorialData(additional_data={}, curp_original='CAHF620818HMNLNL09', des_estatus_c_u_r_p=None, descripcion_curp=None, estatus_curp=None), nombres='FELIPE DE JESUS', pais_nacimiento='MEXICO', sexo=<ValidCURPUserData_sexo.HOMBRE: 'HOMBRE'>), message='Exitoso', status=200, success=True)"
      ]
     },
     "execution_count": 1,
     "metadata": {},
     "output_type": "execute_result"
    }
   ],
   "execution_count": 1
  },
  {
   "metadata": {},
   "cell_type": "markdown",
   "source": "However, if you can assembly the client in the different way, each call after assembly we employ your settings.",
   "id": "e565b1d2d20a09cd"
  },
  {
   "metadata": {
    "ExecuteTime": {
     "end_time": "2024-06-22T00:47:55.559264Z",
     "start_time": "2024-06-22T00:47:54.744253Z"
    }
   },
   "cell_type": "code",
   "source": [
    "import apimarket\n",
    "apimarket.assemble(async_client=False)\n",
    "\n",
    "apimarket.fetch_curp_details(\"CAHF620818HMNLNL09\")"
   ],
   "id": "initial_id",
   "outputs": [
    {
     "data": {
      "text/plain": [
       "CurpAPIResponse(additional_data={}, codigo_validacion='j4xxtbfGWXqk6saaSQrN', data=ValidCURPUserData(additional_data={}, apellido_materno='HINOJOSA', apellido_paterno='CALDERON', curp='CAHF620818HMNLNL09', datos_doc_probatorio=DocProbatorioData(additional_data={}, anio_reg=1963, clave_entidad_registro='16', clave_municipio_registro=None, entidad_registro='16', foja=None, libro=None, municipio_registro='MORELIA', num_acta=None), doc_probatorio=None, estado_nacimiento='MICHOACÁN DE OCAMPO', fecha_nacimiento=datetime.datetime(1962, 8, 18, 0, 0), historial=HistorialData(additional_data={}, curp_original='CAHF620818HMNLNL09', des_estatus_c_u_r_p=None, descripcion_curp=None, estatus_curp=None), nombres='FELIPE DE JESUS', pais_nacimiento='MEXICO', sexo=<ValidCURPUserData_sexo.HOMBRE: 'HOMBRE'>), message='Exitoso', status=200, success=True)"
      ]
     },
     "execution_count": 3,
     "metadata": {},
     "output_type": "execute_result"
    }
   ],
   "execution_count": 3
  },
  {
   "metadata": {},
   "cell_type": "markdown",
   "source": "Then, you can use the async client and the typing system to know what you can do.",
   "id": "7431477923ba6a88"
  },
  {
   "metadata": {
    "ExecuteTime": {
     "end_time": "2024-06-22T00:46:50.711892Z",
     "start_time": "2024-06-22T00:46:50.334818Z"
    }
   },
   "cell_type": "code",
   "source": [
    "import apimarket\n",
    "\n",
    "# api_key, headers, sandbox, async_client\n",
    "apimarket.assemble(async_client=True, sandbox=True)\n",
    "\n",
    "await apimarket.fetch_curp_details(\"CAHF620818HMNLNL09\")"
   ],
   "id": "8a876daf37c2a9d9",
   "outputs": [
    {
     "data": {
      "text/plain": [
       "CurpAPIResponse(additional_data={}, codigo_validacion='cNT6eWpNavcFmUikVAeN', data=ValidCURPUserData(additional_data={}, apellido_materno='PEREZ', apellido_paterno='LOPEZ', curp='JLOP540208HSPRHJ02', datos_doc_probatorio=DocProbatorioData(additional_data={}, anio_reg=None, clave_entidad_registro='22', clave_municipio_registro=None, entidad_registro='TABASCO', foja=None, libro=None, municipio_registro='MACUSPANA', num_acta=None), doc_probatorio=1, estado_nacimiento='TABASCO', fecha_nacimiento=datetime.datetime(1954, 3, 11, 0, 0), historial=HistorialData(additional_data={}, curp_original=None, des_estatus_c_u_r_p=None, descripcion_curp=None, estatus_curp='RCN'), nombres='JUAN', pais_nacimiento='MEXICO', sexo=<ValidCURPUserData_sexo.HOMBRE: 'HOMBRE'>), message='Esta es una peticion de prueba', status=200, success=True)"
      ]
     },
     "execution_count": 2,
     "metadata": {},
     "output_type": "execute_result"
    }
   ],
   "execution_count": 2
  }
 ],
 "metadata": {
  "kernelspec": {
   "display_name": "apimarket",
   "language": "python",
   "name": "apimarket"
  },
  "language_info": {
   "codemirror_mode": {
    "name": "ipython",
    "version": 2
   },
   "file_extension": ".py",
   "mimetype": "text/x-python",
   "name": "python",
   "nbconvert_exporter": "python",
   "pygments_lexer": "ipython2",
   "version": "2.7.6"
  }
 },
 "nbformat": 4,
 "nbformat_minor": 5
}
