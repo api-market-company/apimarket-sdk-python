{
 "cells": [
  {
   "cell_type": "markdown",
   "id": "b75191b11fe245bf",
   "metadata": {},
   "source": [
    "# API Market SDK Python"
   ]
  },
  {
   "cell_type": "markdown",
   "id": "79a83170a999431f",
   "metadata": {},
   "source": [
    "By default, the SDK will assembly for you a sync client and read your environment variables for the API key and Sandbox."
   ]
  },
  {
   "cell_type": "code",
   "execution_count": null,
   "id": "0e9721c6-7435-4ad9-8762-97d7554028fb",
   "metadata": {},
   "outputs": [],
   "source": []
  },
  {
   "cell_type": "code",
   "execution_count": 1,
   "id": "2d274d96ad51aef4",
   "metadata": {
    "ExecuteTime": {
     "end_time": "2024-06-22T00:41:37.299216Z",
     "start_time": "2024-06-22T00:41:35.582706Z"
    }
   },
   "outputs": [
    {
     "ename": "CurpAPIResponse401Error",
     "evalue": "\n        APIError\n        Code: 401\n        message: El token proporcionado no es valido.\n        ",
     "output_type": "error",
     "traceback": [
      "\u001b[0;31m---------------------------------------------------------------------------\u001b[0m",
      "\u001b[0;31mCurpAPIResponse401Error\u001b[0m                   Traceback (most recent call last)",
      "Cell \u001b[0;32mIn[1], line 3\u001b[0m\n\u001b[1;32m      1\u001b[0m \u001b[38;5;28;01mimport\u001b[39;00m \u001b[38;5;21;01mapimarket\u001b[39;00m\n\u001b[0;32m----> 3\u001b[0m \u001b[43mapimarket\u001b[49m\u001b[38;5;241;43m.\u001b[39;49m\u001b[43mfetch_curp_details\u001b[49m\u001b[43m(\u001b[49m\u001b[38;5;124;43m\"\u001b[39;49m\u001b[38;5;124;43mCAHF620818HMNLNL09\u001b[39;49m\u001b[38;5;124;43m\"\u001b[39;49m\u001b[43m)\u001b[49m\n",
      "File \u001b[0;32m~/Workspace/apimarket-sdk-python/src/apimarket/__init__.py:125\u001b[0m, in \u001b[0;36mformat_api.<locals>.wrapper\u001b[0;34m(*args, **kwargs)\u001b[0m\n\u001b[1;32m    121\u001b[0m api, configuration \u001b[38;5;241m=\u001b[39m func(\u001b[38;5;241m*\u001b[39margs, \u001b[38;5;241m*\u001b[39m\u001b[38;5;241m*\u001b[39mkwargs)\n\u001b[1;32m    123\u001b[0m configuration\u001b[38;5;241m.\u001b[39mquery_parameters \u001b[38;5;241m=\u001b[39m make_query_params(arguments)\n\u001b[0;32m--> 125\u001b[0m \u001b[38;5;28;01mreturn\u001b[39;00m \u001b[43mchoice_process_scheduler\u001b[49m\u001b[43m(\u001b[49m\u001b[38;5;28;43;01mlambda\u001b[39;49;00m\u001b[43m:\u001b[49m\u001b[43m \u001b[49m\u001b[43mapi\u001b[49m\u001b[43m(\u001b[49m\u001b[43mrequest_configuration\u001b[49m\u001b[38;5;241;43m=\u001b[39;49m\u001b[43mconfiguration\u001b[49m\u001b[43m)\u001b[49m\u001b[43m)\u001b[49m\u001b[43m(\u001b[49m\u001b[43m)\u001b[49m\n",
      "File \u001b[0;32m~/Workspace/apimarket-sdk-python/src/apimarket/__init__.py:106\u001b[0m, in \u001b[0;36mchoice_process_scheduler.<locals>.wrapper\u001b[0;34m(*args, **kwargs)\u001b[0m\n\u001b[1;32m    104\u001b[0m     \u001b[38;5;28;01mreturn\u001b[39;00m func(\u001b[38;5;241m*\u001b[39margs, \u001b[38;5;241m*\u001b[39m\u001b[38;5;241m*\u001b[39mkwargs)\n\u001b[1;32m    105\u001b[0m loop \u001b[38;5;241m=\u001b[39m get_an_event_loop()\n\u001b[0;32m--> 106\u001b[0m \u001b[38;5;28;01mreturn\u001b[39;00m \u001b[43mloop\u001b[49m\u001b[38;5;241;43m.\u001b[39;49m\u001b[43mrun_until_complete\u001b[49m\u001b[43m(\u001b[49m\u001b[43mfunc\u001b[49m\u001b[43m(\u001b[49m\u001b[38;5;241;43m*\u001b[39;49m\u001b[43margs\u001b[49m\u001b[43m,\u001b[49m\u001b[43m \u001b[49m\u001b[38;5;241;43m*\u001b[39;49m\u001b[38;5;241;43m*\u001b[39;49m\u001b[43mkwargs\u001b[49m\u001b[43m)\u001b[49m\u001b[43m)\u001b[49m\n",
      "File \u001b[0;32m~/micromamba/envs/apimarket/lib/python3.10/site-packages/nest_asyncio.py:98\u001b[0m, in \u001b[0;36m_patch_loop.<locals>.run_until_complete\u001b[0;34m(self, future)\u001b[0m\n\u001b[1;32m     95\u001b[0m \u001b[38;5;28;01mif\u001b[39;00m \u001b[38;5;129;01mnot\u001b[39;00m f\u001b[38;5;241m.\u001b[39mdone():\n\u001b[1;32m     96\u001b[0m     \u001b[38;5;28;01mraise\u001b[39;00m \u001b[38;5;167;01mRuntimeError\u001b[39;00m(\n\u001b[1;32m     97\u001b[0m         \u001b[38;5;124m'\u001b[39m\u001b[38;5;124mEvent loop stopped before Future completed.\u001b[39m\u001b[38;5;124m'\u001b[39m)\n\u001b[0;32m---> 98\u001b[0m \u001b[38;5;28;01mreturn\u001b[39;00m \u001b[43mf\u001b[49m\u001b[38;5;241;43m.\u001b[39;49m\u001b[43mresult\u001b[49m\u001b[43m(\u001b[49m\u001b[43m)\u001b[49m\n",
      "File \u001b[0;32m~/micromamba/envs/apimarket/lib/python3.10/asyncio/futures.py:201\u001b[0m, in \u001b[0;36mFuture.result\u001b[0;34m(self)\u001b[0m\n\u001b[1;32m    199\u001b[0m \u001b[38;5;28mself\u001b[39m\u001b[38;5;241m.\u001b[39m__log_traceback \u001b[38;5;241m=\u001b[39m \u001b[38;5;28;01mFalse\u001b[39;00m\n\u001b[1;32m    200\u001b[0m \u001b[38;5;28;01mif\u001b[39;00m \u001b[38;5;28mself\u001b[39m\u001b[38;5;241m.\u001b[39m_exception \u001b[38;5;129;01mis\u001b[39;00m \u001b[38;5;129;01mnot\u001b[39;00m \u001b[38;5;28;01mNone\u001b[39;00m:\n\u001b[0;32m--> 201\u001b[0m     \u001b[38;5;28;01mraise\u001b[39;00m \u001b[38;5;28mself\u001b[39m\u001b[38;5;241m.\u001b[39m_exception\u001b[38;5;241m.\u001b[39mwith_traceback(\u001b[38;5;28mself\u001b[39m\u001b[38;5;241m.\u001b[39m_exception_tb)\n\u001b[1;32m    202\u001b[0m \u001b[38;5;28;01mreturn\u001b[39;00m \u001b[38;5;28mself\u001b[39m\u001b[38;5;241m.\u001b[39m_result\n",
      "File \u001b[0;32m~/micromamba/envs/apimarket/lib/python3.10/asyncio/tasks.py:232\u001b[0m, in \u001b[0;36mTask.__step\u001b[0;34m(***failed resolving arguments***)\u001b[0m\n\u001b[1;32m    228\u001b[0m \u001b[38;5;28;01mtry\u001b[39;00m:\n\u001b[1;32m    229\u001b[0m     \u001b[38;5;28;01mif\u001b[39;00m exc \u001b[38;5;129;01mis\u001b[39;00m \u001b[38;5;28;01mNone\u001b[39;00m:\n\u001b[1;32m    230\u001b[0m         \u001b[38;5;66;03m# We use the `send` method directly, because coroutines\u001b[39;00m\n\u001b[1;32m    231\u001b[0m         \u001b[38;5;66;03m# don't have `__iter__` and `__next__` methods.\u001b[39;00m\n\u001b[0;32m--> 232\u001b[0m         result \u001b[38;5;241m=\u001b[39m \u001b[43mcoro\u001b[49m\u001b[38;5;241;43m.\u001b[39;49m\u001b[43msend\u001b[49m\u001b[43m(\u001b[49m\u001b[38;5;28;43;01mNone\u001b[39;49;00m\u001b[43m)\u001b[49m\n\u001b[1;32m    233\u001b[0m     \u001b[38;5;28;01melse\u001b[39;00m:\n\u001b[1;32m    234\u001b[0m         result \u001b[38;5;241m=\u001b[39m coro\u001b[38;5;241m.\u001b[39mthrow(exc)\n",
      "File \u001b[0;32m~/Workspace/apimarket-sdk-python/src/apimarket/api/renapo/grupo/valida_curp/valida_curp_request_builder.py:62\u001b[0m, in \u001b[0;36mValidaCurpRequestBuilder.post\u001b[0;34m(self, request_configuration)\u001b[0m\n\u001b[1;32m     59\u001b[0m     \u001b[38;5;28;01mraise\u001b[39;00m \u001b[38;5;167;01mException\u001b[39;00m(\u001b[38;5;124m\"\u001b[39m\u001b[38;5;124mHttp core is null\u001b[39m\u001b[38;5;124m\"\u001b[39m) \n\u001b[1;32m     60\u001b[0m \u001b[38;5;28;01mfrom\u001b[39;00m \u001b[38;5;21;01m.\u001b[39;00m\u001b[38;5;21;01m.\u001b[39;00m\u001b[38;5;21;01m.\u001b[39;00m\u001b[38;5;21;01m.\u001b[39;00m\u001b[38;5;21;01m.\u001b[39;00m\u001b[38;5;21;01mmodels\u001b[39;00m\u001b[38;5;21;01m.\u001b[39;00m\u001b[38;5;21;01mcurp_a_p_i_response\u001b[39;00m \u001b[38;5;28;01mimport\u001b[39;00m CurpAPIResponse\n\u001b[0;32m---> 62\u001b[0m \u001b[38;5;28;01mreturn\u001b[39;00m \u001b[38;5;28;01mawait\u001b[39;00m \u001b[38;5;28mself\u001b[39m\u001b[38;5;241m.\u001b[39mrequest_adapter\u001b[38;5;241m.\u001b[39msend_async(request_info, CurpAPIResponse, error_mapping)\n",
      "File \u001b[0;32m~/micromamba/envs/apimarket/lib/python3.10/site-packages/kiota_http/httpx_request_adapter.py:185\u001b[0m, in \u001b[0;36mHttpxRequestAdapter.send_async\u001b[0;34m(self, request_info, parsable_factory, error_map)\u001b[0m\n\u001b[1;32m    182\u001b[0m     parent_span\u001b[38;5;241m.\u001b[39madd_event(RESPONSE_HANDLER_EVENT_INVOKED_KEY)\n\u001b[1;32m    183\u001b[0m     \u001b[38;5;28;01mreturn\u001b[39;00m \u001b[38;5;28;01mawait\u001b[39;00m response_handler\u001b[38;5;241m.\u001b[39mhandle_response_async(response, error_map)\n\u001b[0;32m--> 185\u001b[0m \u001b[38;5;28;01mawait\u001b[39;00m \u001b[38;5;28mself\u001b[39m\u001b[38;5;241m.\u001b[39mthrow_failed_responses(response, error_map, parent_span, parent_span)\n\u001b[1;32m    186\u001b[0m \u001b[38;5;28;01mif\u001b[39;00m \u001b[38;5;28mself\u001b[39m\u001b[38;5;241m.\u001b[39m_should_return_none(response):\n\u001b[1;32m    187\u001b[0m     \u001b[38;5;28;01mreturn\u001b[39;00m \u001b[38;5;28;01mNone\u001b[39;00m\n",
      "File \u001b[0;32m~/micromamba/envs/apimarket/lib/python3.10/site-packages/kiota_http/httpx_request_adapter.py:503\u001b[0m, in \u001b[0;36mHttpxRequestAdapter.throw_failed_responses\u001b[0;34m(self, response, error_map, parent_span, attribute_span)\u001b[0m\n\u001b[1;32m    494\u001b[0m         exc \u001b[38;5;241m=\u001b[39m APIError(\n\u001b[1;32m    495\u001b[0m             (\n\u001b[1;32m    496\u001b[0m                 \u001b[38;5;124m\"\u001b[39m\u001b[38;5;124mThe server returned an unexpected status code and the error registered\u001b[39m\u001b[38;5;124m\"\u001b[39m\n\u001b[0;32m   (...)\u001b[0m\n\u001b[1;32m    500\u001b[0m             response_headers,\n\u001b[1;32m    501\u001b[0m         )\n\u001b[1;32m    502\u001b[0m     _get_obj_span\u001b[38;5;241m.\u001b[39mend()\n\u001b[0;32m--> 503\u001b[0m     \u001b[38;5;28;01mraise\u001b[39;00m exc\n\u001b[1;32m    504\u001b[0m \u001b[38;5;28;01mfinally\u001b[39;00m:\n\u001b[1;32m    505\u001b[0m     _throw_failed_resp_span\u001b[38;5;241m.\u001b[39mend()\n",
      "\u001b[0;31mCurpAPIResponse401Error\u001b[0m: \n        APIError\n        Code: 401\n        message: El token proporcionado no es valido.\n        "
     ]
    }
   ],
   "source": [
    "import apimarket\n",
    "\n",
    "apimarket.fetch_curp_details(\"CAHF620818HMNLNL09\")"
   ]
  },
  {
   "cell_type": "markdown",
   "id": "e565b1d2d20a09cd",
   "metadata": {},
   "source": [
    "However, if you can assembly the client in the different way, each call after assembly we employ your settings."
   ]
  },
  {
   "cell_type": "code",
   "execution_count": 3,
   "id": "initial_id",
   "metadata": {
    "ExecuteTime": {
     "end_time": "2024-06-22T00:47:55.559264Z",
     "start_time": "2024-06-22T00:47:54.744253Z"
    }
   },
   "outputs": [
    {
     "data": {
      "text/plain": [
       "CurpAPIResponse(additional_data={}, codigo_validacion='j4xxtbfGWXqk6saaSQrN', data=ValidCURPUserData(additional_data={}, apellido_materno='HINOJOSA', apellido_paterno='CALDERON', curp='CAHF620818HMNLNL09', datos_doc_probatorio=DocProbatorioData(additional_data={}, anio_reg=1963, clave_entidad_registro='16', clave_municipio_registro=None, entidad_registro='16', foja=None, libro=None, municipio_registro='MORELIA', num_acta=None), doc_probatorio=None, estado_nacimiento='MICHOACÁN DE OCAMPO', fecha_nacimiento=datetime.datetime(1962, 8, 18, 0, 0), historial=HistorialData(additional_data={}, curp_original='CAHF620818HMNLNL09', des_estatus_c_u_r_p=None, descripcion_curp=None, estatus_curp=None), nombres='FELIPE DE JESUS', pais_nacimiento='MEXICO', sexo=<ValidCURPUserData_sexo.HOMBRE: 'HOMBRE'>), message='Exitoso', status=200, success=True)"
      ]
     },
     "execution_count": 3,
     "metadata": {},
     "output_type": "execute_result"
    }
   ],
   "source": [
    "import apimarket\n",
    "apimarket.assemble(async_client=False)\n",
    "\n",
    "apimarket.fetch_curp_details(\"CAHF620818HMNLNL09\")"
   ]
  },
  {
   "cell_type": "markdown",
   "id": "7431477923ba6a88",
   "metadata": {},
   "source": [
    "Then, you can use the async client and the typing system to know what you can do."
   ]
  },
  {
   "cell_type": "code",
   "execution_count": 2,
   "id": "8a876daf37c2a9d9",
   "metadata": {
    "ExecuteTime": {
     "end_time": "2024-06-22T00:46:50.711892Z",
     "start_time": "2024-06-22T00:46:50.334818Z"
    }
   },
   "outputs": [
    {
     "data": {
      "text/plain": [
       "CurpAPIResponse(additional_data={}, codigo_validacion='cNT6eWpNavcFmUikVAeN', data=ValidCURPUserData(additional_data={}, apellido_materno='PEREZ', apellido_paterno='LOPEZ', curp='JLOP540208HSPRHJ02', datos_doc_probatorio=DocProbatorioData(additional_data={}, anio_reg=None, clave_entidad_registro='22', clave_municipio_registro=None, entidad_registro='TABASCO', foja=None, libro=None, municipio_registro='MACUSPANA', num_acta=None), doc_probatorio=1, estado_nacimiento='TABASCO', fecha_nacimiento=datetime.datetime(1954, 3, 11, 0, 0), historial=HistorialData(additional_data={}, curp_original=None, des_estatus_c_u_r_p=None, descripcion_curp=None, estatus_curp='RCN'), nombres='JUAN', pais_nacimiento='MEXICO', sexo=<ValidCURPUserData_sexo.HOMBRE: 'HOMBRE'>), message='Esta es una peticion de prueba', status=200, success=True)"
      ]
     },
     "execution_count": 2,
     "metadata": {},
     "output_type": "execute_result"
    }
   ],
   "source": [
    "import apimarket\n",
    "\n",
    "# api_key, headers, sandbox, async_client\n",
    "apimarket.assemble(async_client=True, sandbox=True)\n",
    "\n",
    "await apimarket.fetch_curp_details(\"CAHF620818HMNLNL09\")"
   ]
  }
 ],
 "metadata": {
  "kernelspec": {
   "display_name": "apimarket",
   "language": "python",
   "name": "apimarket"
  },
  "language_info": {
   "codemirror_mode": {
    "name": "ipython",
    "version": 3
   },
   "file_extension": ".py",
   "mimetype": "text/x-python",
   "name": "python",
   "nbconvert_exporter": "python",
   "pygments_lexer": "ipython3",
   "version": "3.10.14"
  }
 },
 "nbformat": 4,
 "nbformat_minor": 5
}
